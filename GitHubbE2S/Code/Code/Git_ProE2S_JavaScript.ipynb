{
 "cells": [
  {
   "cell_type": "code",
   "execution_count": 1,
   "metadata": {},
   "outputs": [],
   "source": [
    "import requests\n",
    "import pandas as pd\n",
    "from bs4 import BeautifulSoup"
   ]
  },
  {
   "cell_type": "code",
   "execution_count": 2,
   "metadata": {},
   "outputs": [],
   "source": [
    "base_url = 'https://github.com/topics/javascript?page='\n",
    "url_list = []\n",
    "for p_num in range(1, 8):\n",
    "    url_list.append(base_url + str(p_num))"
   ]
  },
  {
   "cell_type": "code",
   "execution_count": 3,
   "metadata": {},
   "outputs": [],
   "source": [
    "first30name = []\n",
    "\n",
    "for url in url_list:\n",
    "    r = requests.get(url).text\n",
    "    soup = BeautifulSoup(r, 'lxml')\n",
    "\n",
    "    all_divs = soup.find_all('div', class_='d-flex flex-justify-between my-3')\n",
    "    for items in all_divs:\n",
    "        all_h3 = items.find_all(\n",
    "            'h3', class_='f3 color-fg-muted text-normal lh-condensed')\n",
    "        # User names\n",
    "        for owner in all_h3:\n",
    "            owner_name = owner.find('a')\n",
    "            name = owner_name.text.strip()\n",
    "\n",
    "        # Repository names\n",
    "        for repo in all_h3:\n",
    "            repo_name = repo.find('a', class_='text-bold wb-break-word')\n",
    "            repository = repo_name.text.strip()\n",
    "\n",
    "        # Repository links\n",
    "        for link in items.find_all('a',\n",
    "                                class_='text-bold wb-break-word',\n",
    "                                href=True):\n",
    "            repo_links = \"https://github.com/\" + link['href']\n",
    "\n",
    "        # Stars\n",
    "        for star in items.find_all('span', class_='Counter js-social-count'):\n",
    "            stars = star.text.strip()\n",
    "            ownername_dict = {\n",
    "                'User Name': name,\n",
    "                'Repository Name': repository,\n",
    "                'Stars': stars,\n",
    "                'Repository URL': repo_links\n",
    "            }\n",
    "        first30name.append(ownername_dict)\n",
    "\n",
    "    df = pd.DataFrame(first30name)\n",
    "    df.index = df.index + 1\n",
    "# Deleting 10 extra rows from Data Frame\n",
    "update_df = df.drop(index=[201, 202, 203, 204, 205, 206, 207, 208, 209, 210])\n",
    "\n",
    "reindex_df = update_df.reset_index(drop=True)\n",
    "reindex_df.index = reindex_df.index + 1\n",
    "reindex_df.to_excel(\n",
    "    \"D:\\Programming\\Python Coding\\GitProE2S\\All Data That U Want\\JavaScript_Data.xlsx\",\n",
    "    index_label='Sr No.')\n"
   ]
  }
 ],
 "metadata": {
  "kernelspec": {
   "display_name": "Python 3.10.5 ('GitProE2S': venv)",
   "language": "python",
   "name": "python3"
  },
  "language_info": {
   "codemirror_mode": {
    "name": "ipython",
    "version": 3
   },
   "file_extension": ".py",
   "mimetype": "text/x-python",
   "name": "python",
   "nbconvert_exporter": "python",
   "pygments_lexer": "ipython3",
   "version": "3.10.5"
  },
  "orig_nbformat": 4,
  "vscode": {
   "interpreter": {
    "hash": "52683bc5c22cd2cd9da5960c715b1f90fad7f835a22562745add74a3fba10c83"
   }
  }
 },
 "nbformat": 4,
 "nbformat_minor": 2
}
