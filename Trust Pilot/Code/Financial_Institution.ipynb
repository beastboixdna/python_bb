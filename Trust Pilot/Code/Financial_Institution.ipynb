{
 "cells": [
  {
   "cell_type": "code",
   "execution_count": 1,
   "metadata": {},
   "outputs": [],
   "source": [
    "import time\n",
    "import requests\n",
    "import pandas as pd\n",
    "from bs4 import BeautifulSoup"
   ]
  },
  {
   "cell_type": "code",
   "execution_count": 2,
   "metadata": {},
   "outputs": [],
   "source": [
    "headers = {\n",
    "    'User-Agent':\n",
    "    'Mozilla/5.0 (Windows NT 10.0; Win64; x64) AppleWebKit/537.36 (KHTML, like Gecko) Chrome/103.0.5060.134 Safari/537.36'\n",
    "}"
   ]
  },
  {
   "cell_type": "code",
   "execution_count": null,
   "metadata": {},
   "outputs": [],
   "source": [
    "all_data_list = []\n",
    "all_page_list = []\n",
    "for x in range(1,25):\n",
    "\n",
    "    rq = requests.get(f\"https://www.trustpilot.com/categories/financial_institution?page={x}\",headers=headers)\n",
    "\n",
    "    test_soup = BeautifulSoup(rq.content, 'lxml')\n",
    "    one_card = test_soup.find_all('div', class_='styles_businessUnitCard__1-z5m')\n",
    "    for got_in_page in one_card:\n",
    "        for that_url in got_in_page.find_all('a', class_= 'styles_linkWrapper__3x9X7', href=True):\n",
    "            i_got_url = \"https://www.trustpilot.com\"+ that_url['href']\n",
    "            all_page_list.append(i_got_url)\n",
    "\n",
    "for items in all_page_list:\n",
    "\n",
    "    in_page_r = requests.get(items, headers= headers)\n",
    "    in_page_soup=BeautifulSoup(in_page_r.content, 'lxml')\n",
    "\n",
    "    # Service Name\n",
    "    try:\n",
    "        # thaT_div_name = in_page_soup.find_all('div', id='business-unit-title')\n",
    "        name = in_page_soup.find(\n",
    "            'span', class_='title_displayName__TtDDM').text.strip()\n",
    "    except AttributeError:\n",
    "        name = \"Not Available\"\n",
    "        pass\n",
    "\n",
    "    # Trust Score\n",
    "    try:\n",
    "        t_c = in_page_soup.find('div', class_='styles_rating__NPyeH')\n",
    "        Trust_score = t_c.find('p', class_='typography_typography__QgicV').text.strip()\n",
    "    except AttributeError:\n",
    "        Trust_score = \"Score not Available\"\n",
    "        pass\n",
    "\n",
    "    # Total Reviews\n",
    "    try:\n",
    "        total_reviews = in_page_soup.find('span', class_='styles_text__W4hWi').text.strip()\n",
    "    except AttributeError:\n",
    "        Trust_score = \"Score not Available\"\n",
    "        pass\n",
    "\n",
    "    # Website Name\n",
    "    website_name = items\n",
    "\n",
    "    # Addresses\n",
    "    try:\n",
    "        address = str([li.get_text(' ').split(\"<li>\")for li in in_page_soup.select('ul.typography_typography__QgicV')]).strip(\"[\").strip(\"]\").strip(\"'\")\n",
    "    except AttributeError:\n",
    "        address = \"Address not Found\"\n",
    "        pass\n",
    "\n",
    "\n",
    "    all_data_dict = {\n",
    "        'Name' : name,\n",
    "        'Trust Score': Trust_score,\n",
    "        'Total Reviews' : total_reviews,\n",
    "        'Website Name' : website_name,\n",
    "        'Location': address\n",
    "    }\n",
    "\n",
    "    all_data_list.append(all_data_dict)\n",
    "    df = pd.DataFrame(all_data_list)\n",
    "\n",
    "df.index = df.index + 1\n",
    "df.to_excel('D:\\Programming\\Python Coding\\DcodeTech Projects\\Trust Pilot\\Data\\Financial_Institution.xlsx', index_label='Sr No.')\n"
   ]
  }
 ],
 "metadata": {
  "kernelspec": {
   "display_name": "Python 3.10.5 64-bit",
   "language": "python",
   "name": "python3"
  },
  "language_info": {
   "codemirror_mode": {
    "name": "ipython",
    "version": 3
   },
   "file_extension": ".py",
   "mimetype": "text/x-python",
   "name": "python",
   "nbconvert_exporter": "python",
   "pygments_lexer": "ipython3",
   "version": "3.10.5"
  },
  "orig_nbformat": 4,
  "vscode": {
   "interpreter": {
    "hash": "7df1183e51019eefb7d27cff3876226a0997c79b16df418e8dd6cc274777a51a"
   }
  }
 },
 "nbformat": 4,
 "nbformat_minor": 2
}
